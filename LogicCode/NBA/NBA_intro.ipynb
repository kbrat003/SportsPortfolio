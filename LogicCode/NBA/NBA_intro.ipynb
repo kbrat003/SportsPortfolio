{
 "cells": [
  {
   "cell_type": "code",
   "execution_count": 1,
   "id": "cf0b6def-cb7e-48c2-a6fc-bf03627b476a",
   "metadata": {},
   "outputs": [
    {
     "name": "stdout",
     "output_type": "stream",
     "text": [
      "Requirement already satisfied: nba_api in /opt/anaconda3/lib/python3.12/site-packages (1.5.0)\n",
      "Requirement already satisfied: certifi<2024.0.0,>=2023.7.22 in /opt/anaconda3/lib/python3.12/site-packages (from nba_api) (2023.11.17)\n",
      "Requirement already satisfied: numpy<2.0.0,>=1.22.2 in /opt/anaconda3/lib/python3.12/site-packages (from nba_api) (1.26.4)\n",
      "Requirement already satisfied: requests<3.0,>=2.31 in /opt/anaconda3/lib/python3.12/site-packages (from nba_api) (2.32.2)\n",
      "Requirement already satisfied: charset-normalizer<4,>=2 in /opt/anaconda3/lib/python3.12/site-packages (from requests<3.0,>=2.31->nba_api) (2.0.4)\n",
      "Requirement already satisfied: idna<4,>=2.5 in /opt/anaconda3/lib/python3.12/site-packages (from requests<3.0,>=2.31->nba_api) (3.7)\n",
      "Requirement already satisfied: urllib3<3,>=1.21.1 in /opt/anaconda3/lib/python3.12/site-packages (from requests<3.0,>=2.31->nba_api) (2.2.2)\n",
      "Note: you may need to restart the kernel to use updated packages.\n"
     ]
    }
   ],
   "source": [
    "pip install nba_api"
   ]
  },
  {
   "cell_type": "code",
   "execution_count": null,
   "id": "ea251736-c252-40d6-b405-75953e096622",
   "metadata": {},
   "outputs": [
    {
     "name": "stdout",
     "output_type": "stream",
     "text": [
      "      GAME_ID  EVENTNUM  EVENTMSGTYPE  EVENTMSGACTIONTYPE  PERIOD  \\\n",
      "0  0021900001         2            12                   0       1   \n",
      "1  0021900001         4            10                   0       1   \n",
      "2  0021900001         7             2                 101       1   \n",
      "3  0021900001         8             4                   0       1   \n",
      "4  0021900001         9             1                  97       1   \n",
      "\n",
      "  WCTIMESTRING PCTIMESTRING                          HOMEDESCRIPTION  \\\n",
      "0      8:04 PM        12:00                                     None   \n",
      "1      8:04 PM        12:00  Jump Ball Gasol vs. Favors: Tip to Ball   \n",
      "2      8:04 PM        11:48                                     None   \n",
      "3      8:04 PM        11:47                                     None   \n",
      "4      8:04 PM        11:47                                     None   \n",
      "\n",
      "                  NEUTRALDESCRIPTION  \\\n",
      "0  Start of 1st Period (8:04 PM EST)   \n",
      "1                               None   \n",
      "2                               None   \n",
      "3                               None   \n",
      "4                               None   \n",
      "\n",
      "                         VISITORDESCRIPTION  SCORE SCOREMARGIN  \n",
      "0                                      None   None        None  \n",
      "1                                      None   None        None  \n",
      "2  MISS Ball 11' Driving Floating Jump Shot   None        None  \n",
      "3              Favors REBOUND (Off:1 Def:0)   None        None  \n",
      "4          Favors 1' Tip Layup Shot (2 PTS)  2 - 0          -2  \n"
     ]
    }
   ],
   "source": [
    "from nba_api.stats.endpoints import playbyplay\n",
    "import pandas as pd\n",
    "\n",
    "# Fetch play-by-play data for a specific game\n",
    "# You need to know the game ID. You can find game IDs using other endpoints like scoreboard\n",
    "game_id = '0021900001'  # Example game ID\n",
    "\n",
    "# Fetch data\n",
    "pbp = playbyplay.PlayByPlay(game_id)\n",
    "pbp_data = pbp.get_data_frames()[0]\n",
    "\n",
    "# Inspect the data\n",
    "print(pbp_data.head())\n",
    "\n"
   ]
  },
  {
   "cell_type": "code",
   "execution_count": null,
   "id": "049c3644-7822-48fa-a395-5582e2711564",
   "metadata": {},
   "outputs": [],
   "source": [
    "# Calculate total points scored by each player\n",
    "points_by_player = pbp_data.groupby('PLAYER1_NAME')['SCOREMARGIN'].apply(lambda x: x.astype(int).diff().fillna(0)).sum().sort_values(ascending=False)\n",
    "print(points_by_player)\n",
    "\n",
    "# Frequency of different types of plays\n",
    "play_types = pbp_data['EVENTMSGTYPE'].value_counts()\n",
    "print(play_types)\n",
    "\n",
    "# Plotting the data\n",
    "import matplotlib.pyplot as plt\n",
    "import seaborn as sns\n",
    "\n",
    "# Plot points scored by top 10 players\n",
    "top_players = points_by_player.head(10)\n",
    "plt.figure(figsize=(10, 6))\n",
    "sns.barplot(x=top_players.values, y=top_players.index)\n",
    "plt.xlabel('Points Scored')\n",
    "plt.ylabel('Player')\n",
    "plt.title('Top 10 Players by Points Scored')\n",
    "plt.show()\n",
    "\n",
    "# Plot frequency of different types of plays\n",
    "plt.figure(figsize=(12, 6))\n",
    "sns.barplot(x=play_types.values, y=play_types.index)\n",
    "plt.xlabel('Frequency')\n",
    "plt.ylabel('Play Type')\n",
    "plt.title('Frequency of Different Play Types')\n",
    "plt.show()\n"
   ]
  }
 ],
 "metadata": {
  "kernelspec": {
   "display_name": "Python 3 (ipykernel)",
   "language": "python",
   "name": "python3"
  },
  "language_info": {
   "codemirror_mode": {
    "name": "ipython",
    "version": 3
   },
   "file_extension": ".py",
   "mimetype": "text/x-python",
   "name": "python",
   "nbconvert_exporter": "python",
   "pygments_lexer": "ipython3",
   "version": "3.12.4"
  }
 },
 "nbformat": 4,
 "nbformat_minor": 5
}
