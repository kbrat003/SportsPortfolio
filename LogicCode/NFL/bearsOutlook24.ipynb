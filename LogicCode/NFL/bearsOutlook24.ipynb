{
 "cells": [
  {
   "cell_type": "markdown",
   "id": "fac4d5d9-1ef9-4ca7-ae27-718d02785f10",
   "metadata": {},
   "source": [
    "# 2024 Chicago Bears Team Outlook"
   ]
  },
  {
   "cell_type": "code",
   "execution_count": 6,
   "id": "9012b1bb-7e50-496c-ba97-e2d64a1d78db",
   "metadata": {},
   "outputs": [],
   "source": [
    "!pip install nfl_data_py\n",
    "!pip install pandas\n",
    "!pip install matplotlib\n",
    "!pip install pillow"
   ]
  },
  {
   "cell_type": "code",
   "execution_count": 8,
   "id": "7d73bcdc-400b-4ddd-b93b-358c24568aa1",
   "metadata": {},
   "outputs": [],
   "source": [
    "import nfl_data_py as nfl\n",
    "import pandas as pd\n",
    "import os\n",
    "import urllib.request\n",
    "import matplotlib.pyplot as plt\n",
    "from matplotlib.offsetbox import AnnotationBbox, OffsetImage\n",
    "from PIL import Image"
   ]
  },
  {
   "cell_type": "markdown",
   "id": "e89b083f-919f-418c-9394-3cfb4c647061",
   "metadata": {},
   "source": [
    "## Shane Waldron as OC in Seattle"
   ]
  },
  {
   "cell_type": "code",
   "execution_count": null,
   "id": "5a68eeb9-afe8-40ee-9854-24f7ac04ebec",
   "metadata": {},
   "outputs": [],
   "source": []
  },
  {
   "cell_type": "markdown",
   "id": "eefcc903-71f5-4e10-80e4-e34e5e2bc0d6",
   "metadata": {},
   "source": [
    "## Run Game Transition Between Coordinators"
   ]
  },
  {
   "cell_type": "code",
   "execution_count": null,
   "id": "42f9580e-f340-46af-913f-42b3edc8eeb0",
   "metadata": {},
   "outputs": [],
   "source": []
  },
  {
   "cell_type": "markdown",
   "id": "0a8559f6-7d73-4f49-891c-685b53defe18",
   "metadata": {},
   "source": [
    "## Keenan Allen and DJ Moore's Fit in the Offense"
   ]
  },
  {
   "cell_type": "code",
   "execution_count": null,
   "id": "933315bc-2690-4251-88cb-dd1c6b0ec91c",
   "metadata": {},
   "outputs": [],
   "source": []
  },
  {
   "cell_type": "markdown",
   "id": "160631b8-a830-4c44-beea-2036bed55bfb",
   "metadata": {},
   "source": [
    "## Eberflus's Defense"
   ]
  },
  {
   "cell_type": "code",
   "execution_count": null,
   "id": "ad5b877b-0e74-4753-a052-6ccc36d2535f",
   "metadata": {},
   "outputs": [],
   "source": []
  }
 ],
 "metadata": {
  "kernelspec": {
   "display_name": "Python 3 (ipykernel)",
   "language": "python",
   "name": "python3"
  },
  "language_info": {
   "codemirror_mode": {
    "name": "ipython",
    "version": 3
   },
   "file_extension": ".py",
   "mimetype": "text/x-python",
   "name": "python",
   "nbconvert_exporter": "python",
   "pygments_lexer": "ipython3",
   "version": "3.12.4"
  }
 },
 "nbformat": 4,
 "nbformat_minor": 5
}
